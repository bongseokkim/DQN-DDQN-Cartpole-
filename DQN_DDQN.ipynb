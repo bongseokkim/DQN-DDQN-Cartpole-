{
  "nbformat": 4,
  "nbformat_minor": 0,
  "metadata": {
    "colab": {
      "name": "DQN/DDQN.ipynb",
      "provenance": [],
      "collapsed_sections": []
    },
    "kernelspec": {
      "name": "python3",
      "display_name": "Python 3"
    },
    "language_info": {
      "name": "python"
    }
  },
  "cells": [
    {
      "cell_type": "markdown",
      "metadata": {
        "id": "6l3M5l5ZvSyo"
      },
      "source": [
        "## Catpole 환경에서 DQN 및 DDQN, Dueling network 적용 \n"
      ]
    },
    {
      "cell_type": "markdown",
      "metadata": {
        "id": "S_t9WR2qvJU9"
      },
      "source": [
        "## OpenAI Gym Cartpole Environmnet \n",
        "\n",
        "Cartpole 환경 설명 \n",
        "\n",
        "CartPole-v1 환경은 이름 그대로 어떤 Cart에 Pole이 연결되어 있습니다. 위의 그림에서 보라색 사각형은 피벗 포인트를 나타냅니다. 빨간색 및 녹색은 이 피벗 포인트에 적용될 수 있는 수평적 힘을 나타냅니다. Agent의 목표는 Cart를 왼쪽 오른쪽으로 힘을 주면서, 최대한 쓰러트리지 않고 평형을 유지하는게 목표입니다.  \n",
        "\n",
        "밑의 자료는 MDP 정의를 위한 , Action, reward , state들을 요약 정리한 자료입니다. \n",
        "\n",
        "\n",
        " Source:\n",
        "        This environment corresponds to the version of the cart-pole problem\n",
        "        described by Barto, Sutton, and Anderson\n",
        "        \n",
        "    Observation:\n",
        "        Type: Box(4)\n",
        "        Num     Observation               Min                     Max\n",
        "        0       Cart Position             -4.8                    4.8\n",
        "        1       Cart Velocity             -Inf                    Inf\n",
        "        2       Pole Angle                -0.418 rad (-24 deg)    0.418 rad (24 deg)\n",
        "        3       Pole Angular Velocity     -Inf                    Inf\n",
        "        \n",
        "    Actions:\n",
        "        Type: Discrete(2)\n",
        "        Num   Action\n",
        "        0     Push cart to the left\n",
        "        1     Push cart to the right\n",
        "        Note: The amount the velocity that is reduced or increased is not\n",
        "        fixed; it depends on the angle the pole is pointing. This is because\n",
        "        the center of gravity of the pole increases the amount of energy needed\n",
        "        to move the cart underneath it\n",
        "        \n",
        "    Reward:\n",
        "        Reward is 1 for every step taken, including the termination step\n",
        "  \n",
        "  \n",
        "    Starting State:\n",
        "        All observations are assigned a uniform random value in [-0.05..0.05]\n",
        "        \n",
        "    Episode Termination:\n",
        "        Pole Angle is more than 12 degrees.\n",
        "        Cart Position is more than 2.4 (center of the cart reaches the edge of\n",
        "        the display).\n",
        "        Episode length is greater than 200.\n",
        "        Solved Requirements:\n",
        "        Considered solved when the average return is greater than or equal to\n",
        "        195.0 over 100 consecutive trials."
      ]
    },
    {
      "cell_type": "markdown",
      "metadata": {
        "id": "37-3hZPevmo2"
      },
      "source": [
        "## 환경 탐구"
      ]
    },
    {
      "cell_type": "code",
      "metadata": {
        "id": "srw6jiMOvG8r"
      },
      "source": [
        "import gym\n",
        "\n",
        "env = gym.make('CartPole-v0')"
      ],
      "execution_count": null,
      "outputs": []
    },
    {
      "cell_type": "code",
      "metadata": {
        "colab": {
          "base_uri": "https://localhost:8080/"
        },
        "id": "DgSBirtswDSA",
        "outputId": "f011390f-fd68-4423-a315-fd0f05e0f290"
      },
      "source": [
        "env.observation_space.sample() # [Cart Position, Cart Velocity, Pole Angle, Pole Angular Velocity]"
      ],
      "execution_count": null,
      "outputs": [
        {
          "output_type": "execute_result",
          "data": {
            "text/plain": [
              "array([ 3.6872673e+00,  2.7864755e+38,  2.7024955e-01, -3.3661892e+38],\n",
              "      dtype=float32)"
            ]
          },
          "metadata": {
            "tags": []
          },
          "execution_count": 3
        }
      ]
    },
    {
      "cell_type": "code",
      "metadata": {
        "colab": {
          "base_uri": "https://localhost:8080/"
        },
        "id": "ZAEWSxMWwDn-",
        "outputId": "6ba56df6-4cf2-4a82-9006-a034051c5c8b"
      },
      "source": [
        "print(env.action_space)\n",
        "print(env.action_space.sample()) # 0 :Push cart to the left , 1 :Push cart to the right"
      ],
      "execution_count": null,
      "outputs": [
        {
          "output_type": "stream",
          "text": [
            "Discrete(2)\n",
            "0\n"
          ],
          "name": "stdout"
        }
      ]
    },
    {
      "cell_type": "markdown",
      "metadata": {
        "id": "vi5Mgx_M-Kg-"
      },
      "source": [
        "## 적용한 알고리즘 코드 설명 \n",
        "\n",
        "기본적인 구조와  간단한 설명을 하고, 자세한 코드 설명은 주석을 통해서 달았습니다.\n",
        "\n",
        "## DQN with target network & experience replay buffer\n",
        "가독성을 위해 Q-network 와 experience replay buffer class를 따로 만들고\n",
        "\n",
        "Agent class에 결합방하는 방식을 취했습니다."
      ]
    },
    {
      "cell_type": "markdown",
      "metadata": {
        "id": "Bk9FaR5aqJMY"
      },
      "source": [
        "### Class : Q network\n",
        "pytorch frame work을 사용했습니다. \n",
        "\n",
        "keras에 비해 좀더 익숙하고, 구현이 직관적이라고 판단했습니다. \n",
        "\n",
        "아주 간단한 형태로 구성했으며, State(4개 element로 이루어진 array)을 받아 Fully connected layer 3개를 거쳐 \n",
        "\n",
        "현재 state에서 가능한 action 2개의 Q-value를 output로 내뱉습니다.\n"
      ]
    },
    {
      "cell_type": "code",
      "metadata": {
        "id": "o0nFo0yxmAod"
      },
      "source": [
        "import torch\n",
        "import torch.nn as nn\n",
        "import torch.nn.functional as F\n",
        "import torch.optim as optim\n",
        "\n",
        "class Q_network(nn.Module):\n",
        "    def __init__(self):  \n",
        "        super(Q_network, self).__init__()\n",
        "        self.fc1 = nn.Linear(4, 128) #  fully connected  layer 1 : 4개의 state 받아 128개의 output \n",
        "        self.fc2 = nn.Linear(128,64)  #  fully connected  layer 2 : 128개의 fc1 output받아 64 개의 output \n",
        "        self.fc3 = nn.Linear(64,2) # fully connected  layer 3 : 64개의 fc3 output받아 2 개의 Q-value output \n",
        "\n",
        "    def forward(self, x):\n",
        "        # init에서 지정한 형태의 arictecture를  activation(relue)를 거쳐 forward propagation\n",
        "        x = F.relu(self.fc1(x))\n",
        "        x = F.relu(self.fc2(x))\n",
        "        x = F.relu(self.fc3(x))\n",
        "        \n",
        "        return x \n",
        "    "
      ],
      "execution_count": null,
      "outputs": []
    },
    {
      "cell_type": "markdown",
      "metadata": {
        "id": "lUOMAfCSqMhv"
      },
      "source": [
        "### Class : Experience Replay buffer \n",
        "\n",
        "파이썬의 deque 자료 구조를 experience Replay buffer를 구현하기 위해 사용했습니다."
      ]
    },
    {
      "cell_type": "code",
      "metadata": {
        "id": "9w_XsPhcmBdO"
      },
      "source": [
        "import random\n",
        "from collections import deque\n",
        "\n",
        "class Replay_buffer:\n",
        "    def __init__(self, size_limit=100000, sample_size=512):\n",
        "        self.buffer = deque() # 파이썬의 deque 자료구조를 이용합니다\n",
        "        self.size_limit = size_limit # deque의 최대 element 저장 개수를 지정합니다.\n",
        "        self.sample_size = sample_size # random sampling할 sampling size를 지정합니다.\n",
        "\n",
        "    def put(self, data):\n",
        "        self.buffer.append(data) # data를 받아 buffer에 저장합니다.\n",
        "        if len(self.buffer) > self.size_limit: # 만약 최대 저장 개수보다 클시, 앞에서 부터 데이터를 pop합니다.\n",
        "            self.buffer.popleft()\n",
        "\n",
        "    def sample(self): # 저장된 buffer에서 지정한 sample size만큼 random sampling을 합니다.\n",
        "        return random.sample(self.buffer, self.sample_size)\n",
        "\n",
        "    def size(self): # 현재 buffer의 size를 return합니다>\n",
        "        return len(self.buffer)"
      ],
      "execution_count": null,
      "outputs": []
    },
    {
      "cell_type": "markdown",
      "metadata": {
        "id": "Xz6_fmx2pLmf"
      },
      "source": [
        "### Class : DQN_Agent\n",
        "\n",
        "본격적으로 Agent Class를 위에서 만든 class들과 결합해 구현합니다. \n",
        "\n",
        "exploration rate을 decaying 하면서 효율적으로 exploration exploit을 하도록 하였습니다.\n",
        "\n",
        "exploration 정책은 step_done과 지정된 exploration rate/min/deacy 값을 기준으로 계산됩니다. \n",
        "\n",
        "지수적으로 exploration rate을 감소시키는 효과가 있습니다.\n",
        "\n",
        "epsilon threshold 값을 기준으로 greedy action을 수행하거나, random action을 수행합니다. \n",
        "\n",
        "threshold를 계산하는 공식은 다음과 같습니다.\n",
        "\n",
        " eps_threshold = self.exploration_min+ (self.exploration_rate -self.exploration_min) * math.exp(-1. * self.steps_done / self.exploration_decay)\n",
        "\n",
        "\n",
        "\n",
        "\n",
        "###  init 구성요소 설명 \n",
        "\n",
        "#### hyper parmeter \n",
        "\n",
        "+ learning_rate : optimizer의 learning rate를 결정합니다.\n",
        "+ gamma : bellmen 방정식의 gamma를 의미합니다.\n",
        "+ explortation_rate : e-greedy decaying 방식을 취할때 시작 exploration rate를 의미합니다\n",
        "+ exploration_min : decaying을 하면서, 최소한의 explortation min을 설정합니다. 이 이상은 decaying 하지 않습니다.\n",
        "+ exploration_decay : 값을 높일수록 천천히, 지수형태로 exploration rate이  decaying 됩니다. \n",
        "+ sample_batch_size : replay buffer에서 random sampling 할 개수를 지정합니다.\n",
        "+ max_memory : replay buffer의 용량을 결정합니다.\n",
        "+ optimizer : torch의 Adam optimizer를 사용했습니다.\n",
        "+ epochs : replay method를 사용할때 sampling을 해서 update하는 과정을 얼마나 반복적으로 할것인가를 나타냅니다.\n",
        "\n",
        "#### 구성요소  \n",
        "앞서 정의한 replay buffer class와, Q_network를 결합합니다 \n",
        "\n",
        "+ self.replay_buffer : 앞서 정의한 replay buffer class를 결합합니다. \n",
        "+ self.brain : 앞에 정의한 actual Q-network입니다.\n",
        "+ self.target_brain : target Q-network 이며, 일정 시간 freeze 된 후 actual Q-network의 파라미터를 카피합니다.\n",
        "\n",
        "#### exploration을 위한  요소 \n",
        "+ steps_done : 한 episode가 증가할때마다 steps_done+=1 됩니다 .\n",
        "+ current_eps : 현재 exploration_rate를 추적하기 위해서 만들었습니다.\n",
        "\n",
        "#### Method\n",
        "+ random_act : random.randint(0,1)를 이용해 랜덤 action을 return 합니다.\n",
        "+ epsilon_greedy_action : 계산된 epsilon threshold 값을 기준으로 greedy action을 수행하거나, random action을 수행합니다. \n",
        "+ replay : replay buffer에서 random sample을 한후 실제 network를 업데이트 합니다 (지정한 epoch 만큼 수행합니다)\n",
        "+ update_target_brain : 호출시 현재 actual Q-network의 weight를 카피해서 target network weight을 update합니다.\n",
        "\n",
        "\n",
        "**처음에는 mse로 loss function을 지정했지만, 잘 안되서  F.smooth_l1_loss function을 사용했습니다**\n",
        "\n",
        "![image.png](attachment:image.png)"
      ]
    },
    {
      "cell_type": "code",
      "metadata": {
        "id": "1xKlgNUcmCS1"
      },
      "source": [
        "import math\n",
        "\n",
        "class DQN_Agent:\n",
        "    def __init__(self, learning_rate=0.005, gamma=1.0, exploration_rate=1.0, exploration_min=0.1,\n",
        "                 exploration_decay=200, sample_batch_size=512, max_memory=100000, epochs=10,seed=1):\n",
        "        \n",
        "        torch.manual_seed(seed)\n",
        "        # hyper parameter\n",
        "        self.learning_rate = learning_rate\n",
        "        self.gamma = gamma\n",
        "        self.exploration_rate = exploration_rate\n",
        "        self.exploration_min = exploration_min\n",
        "        self.exploration_decay = exploration_decay\n",
        "        self.sample_batch_size = sample_batch_size\n",
        "        self.max_memory = max_memory\n",
        "        self.epochs = epochs\n",
        "        \n",
        "        \n",
        "        self.replay_buffer = Replay_buffer(size_limit=max_memory, sample_size=sample_batch_size)\n",
        "        self.brain = Q_network()\n",
        "        self.target_brain = Q_network()\n",
        "        self.target_brain.load_state_dict(self.brain.state_dict())\n",
        "        self.optimizer = optim.Adam(self.brain.parameters(), lr=self.learning_rate)\n",
        "        \n",
        "        self.steps_done = 0\n",
        "        self.current_eps = 0 \n",
        "\n",
        "    def random_act(self): \n",
        "        return random.randint(0,1)\n",
        "        \n",
        "\n",
        "    def epsilon_greedy_action(self, state):\n",
        "        u = np.random.rand()\n",
        "        \n",
        "        eps_threshold = self.exploration_min+ (self.exploration_rate -self.exploration_min) * \\\n",
        "        math.exp(-1. * self.steps_done / self.exploration_decay)\n",
        "        self.current_eps = eps_threshold\n",
        "        \n",
        "        #greedy action \n",
        "        if u > eps_threshold:\n",
        "            with torch.no_grad():\n",
        "                out = self.brain(torch.tensor(state, dtype=torch.float)) # 현재 state를 받아 Qvalue output\n",
        "                return out.argmax().item() # Q-value 중 가장 큰 action을 return\n",
        "\n",
        "        # random action\n",
        "        else:\n",
        "            return self.random_act()\n",
        "\n",
        "            \n",
        "\n",
        "    def replay(self):\n",
        "        self.target_brain.eval()\n",
        "        self.brain.train()\n",
        "        for i in range(self.epochs):\n",
        "            mini_batch = self.replay_buffer.sample() #replay buffer에서 random sampling \n",
        "            \n",
        "            # mini batch 구성\n",
        "            state_list, action_list, reward_list, next_state_list, done_list = [], [], [], [], []\n",
        "            \n",
        "            # tuple로 구성된 trainsition (s, a, r, s`, done)을 분리\n",
        "            for transition in mini_batch: \n",
        "                state, action, reward, next_state, done = transition  # unpack\n",
        "                state_list.append(state)\n",
        "                action_list.append([action])\n",
        "                reward_list.append([reward])\n",
        "                next_state_list.append(next_state)\n",
        "                done_list.append([done])\n",
        "\n",
        "            # 토치 텐서로 변경\n",
        "            state, action, reward, next_state, done = torch.tensor(state_list, dtype=torch.float), torch.tensor(action_list), \\\n",
        "                               torch.tensor(reward_list, dtype=torch.float), torch.tensor(next_state_list,dtype=torch.float),\\\n",
        "                               torch.tensor(done_list)\n",
        "            \n",
        "            q_out = self.brain(state) # state를 forward propagate Q_value 산출\n",
        "            q_a = q_out.gather(1, action)  # 그중 실제 취한 action의 Q_value, Q(s,a)\n",
        "    \n",
        "            max_q_prime = self.target_brain(next_state).max(1)[0].unsqueeze(1) # max Q(s`,a`) 계산\n",
        "            target = reward + self.gamma * max_q_prime *done # target, r+ gamma * max Q(s`,a`)\n",
        "            \n",
        "            # loss = r+gamma*max(s`,a`) - Q(s,a)\n",
        "            loss = F.smooth_l1_loss(target, q_a) \n",
        "            \n",
        "            self.optimizer.zero_grad() \n",
        "            loss.backward() # backpropagate \n",
        "            self.optimizer.step() # update weight\n",
        "\n",
        "    def update_target_brain(self):\n",
        "        # copy weight of learned brain to target brain\n",
        "        self.target_brain.load_state_dict((self.brain.state_dict()))"
      ],
      "execution_count": null,
      "outputs": []
    },
    {
      "cell_type": "markdown",
      "metadata": {
        "id": "c08lfvcT8mNH"
      },
      "source": [
        "## Main Function"
      ]
    },
    {
      "cell_type": "code",
      "metadata": {
        "colab": {
          "base_uri": "https://localhost:8080/"
        },
        "id": "NeiHehLXmDTl",
        "outputId": "5867fb76-6d44-4dc9-e943-0d963540742f"
      },
      "source": [
        "import datetime\n",
        "import time\n",
        "import numpy as np\n",
        "\n",
        "# hyper parameter setting\n",
        "LR = 0.0001\n",
        "GAMMA = 0.98\n",
        "MAX_MEMORY = 50000\n",
        "SAMPLE_BATCH_SIZE =64\n",
        "EXPLORATION_RATE = 1\n",
        "EXPLORATION_MIN = 0.01\n",
        "EXPLORATION_DECAY= 300\n",
        "EPISODE = 10000\n",
        "UPDATE_INTERVAL = 20 # target network update 주기 설정\n",
        "\n",
        "# for display and result checking \n",
        "PRINT_INTERVAL = 100\n",
        "DISPLAY = True\n",
        "\n",
        "\n",
        "\n",
        "# build environment\n",
        "env = gym.make('CartPole-v1')\n",
        "agent = DQN_Agent(learning_rate=LR, gamma=GAMMA, exploration_rate=EXPLORATION_RATE,\n",
        "              exploration_decay=EXPLORATION_DECAY,\n",
        "              exploration_min=EXPLORATION_MIN, sample_batch_size=SAMPLE_BATCH_SIZE, max_memory=MAX_MEMORY,\n",
        "              )\n",
        "\n",
        "\n",
        "performence = 0\n",
        "frames = []\n",
        "result_DQN = [] # 결과 저장용 \n",
        "\n",
        "for epi_i in range(EPISODE):\n",
        "    state = env.reset() \n",
        "    done = False \n",
        "\n",
        "    while True : # 한 episode가 끝날때 까지 \n",
        "        action = agent.epsilon_greedy_action(state) # 현재 e-greedy 정책에 의해 action을 선택\n",
        "        next_state, reward, done, _ = env.step(action) # action을 한뒤 env부터 transition 결과 받음\n",
        "        done_mask = 0.0 if done else 1.0 # epside가 끝나면 done , boolean to float 로 변경 \n",
        "        agent.replay_buffer.put((state, action, reward/100, next_state, done_mask)) # replay buffer 저장\n",
        "        state = next_state  # state transition\n",
        "        performence+=reward # 받은 reward를 누적 \n",
        "        \n",
        "        # DISPALY = TRUE로 설정시, 평균 reward가 350번을 넘으면 한번만 rendering 합니다(계속하면 너무 오래걸려서..)\n",
        "        # if DISPLAY and (performence/PRINT_INTERVAL > 400) :\n",
        "        #     frames.append(env.render(mode = 'rgb_array'))\n",
        "        #     env.render()\n",
        "        #     time.sleep(0.01) \n",
        "        #     DISPLAY=False  \n",
        "        \n",
        "        if done : \n",
        "            agent.steps_done+=1 # e-greedy 정책을 위해 한번 episode가 끝나면 steps_done +1 해줌 \n",
        "            break  # 끝나면 While True문 탈출\n",
        "    \n",
        "    # buffer에 충분히 sample이 저장되면, replay 학습 \n",
        "    if agent.replay_buffer.size() > 2000 :\n",
        "        agent.replay()\n",
        "    \n",
        "    # target network의 weight를 actual network의 weight으로 update_interval 마다 카피해서 update\n",
        "    if (epi_i % UPDATE_INTERVAL)==0 and epi_i !=0 : \n",
        "        agent.update_target_brain()\n",
        "    \n",
        "    # PRINT INTERVAL 동안 평균 reward, exploration_rate, buffer size를 checking \n",
        "    if (epi_i % PRINT_INTERVAL)==0 and epi_i !=0 :\n",
        "        print(f'episode {epi_i}, performence : {(performence/PRINT_INTERVAL):.3f}, eps : {agent.current_eps:.3f}, buffer size {agent.replay_buffer.size()}')\n",
        "        result_DQN.append(performence/PRINT_INTERVAL) # PRINT INTERVAL 동안 평균 reward,  결과 시각화를 위한 저장 \n",
        "        performence = 0.0 \n",
        "        \n",
        "env.close()"
      ],
      "execution_count": null,
      "outputs": [
        {
          "output_type": "stream",
          "text": [
            "episode 100, performence : 19.620, eps : 0.719, buffer size 1962\n",
            "episode 200, performence : 27.100, eps : 0.518, buffer size 4672\n",
            "episode 300, performence : 128.130, eps : 0.374, buffer size 17485\n",
            "episode 400, performence : 249.890, eps : 0.271, buffer size 42474\n",
            "episode 500, performence : 329.470, eps : 0.197, buffer size 50000\n",
            "episode 600, performence : 328.530, eps : 0.144, buffer size 50000\n",
            "episode 700, performence : 295.720, eps : 0.106, buffer size 50000\n",
            "episode 800, performence : 295.310, eps : 0.079, buffer size 50000\n",
            "episode 900, performence : 283.260, eps : 0.059, buffer size 50000\n",
            "episode 1000, performence : 238.190, eps : 0.045, buffer size 50000\n",
            "episode 1100, performence : 234.050, eps : 0.035, buffer size 50000\n",
            "episode 1200, performence : 252.690, eps : 0.028, buffer size 50000\n",
            "episode 1300, performence : 237.250, eps : 0.023, buffer size 50000\n",
            "episode 1400, performence : 236.650, eps : 0.019, buffer size 50000\n",
            "episode 1500, performence : 195.010, eps : 0.017, buffer size 50000\n",
            "episode 1600, performence : 230.690, eps : 0.015, buffer size 50000\n",
            "episode 1700, performence : 189.190, eps : 0.013, buffer size 50000\n",
            "episode 1800, performence : 151.860, eps : 0.012, buffer size 50000\n",
            "episode 1900, performence : 291.790, eps : 0.012, buffer size 50000\n",
            "episode 2000, performence : 308.670, eps : 0.011, buffer size 50000\n",
            "episode 2100, performence : 308.420, eps : 0.011, buffer size 50000\n",
            "episode 2200, performence : 290.800, eps : 0.011, buffer size 50000\n",
            "episode 2300, performence : 267.860, eps : 0.010, buffer size 50000\n",
            "episode 2400, performence : 264.100, eps : 0.010, buffer size 50000\n",
            "episode 2500, performence : 185.530, eps : 0.010, buffer size 50000\n",
            "episode 2600, performence : 192.920, eps : 0.010, buffer size 50000\n",
            "episode 2700, performence : 225.250, eps : 0.010, buffer size 50000\n",
            "episode 2800, performence : 182.380, eps : 0.010, buffer size 50000\n",
            "episode 2900, performence : 177.830, eps : 0.010, buffer size 50000\n",
            "episode 3000, performence : 184.400, eps : 0.010, buffer size 50000\n",
            "episode 3100, performence : 187.360, eps : 0.010, buffer size 50000\n",
            "episode 3200, performence : 208.680, eps : 0.010, buffer size 50000\n",
            "episode 3300, performence : 261.750, eps : 0.010, buffer size 50000\n",
            "episode 3400, performence : 251.680, eps : 0.010, buffer size 50000\n",
            "episode 3500, performence : 232.470, eps : 0.010, buffer size 50000\n",
            "episode 3600, performence : 175.960, eps : 0.010, buffer size 50000\n",
            "episode 3700, performence : 226.030, eps : 0.010, buffer size 50000\n",
            "episode 3800, performence : 218.910, eps : 0.010, buffer size 50000\n",
            "episode 3900, performence : 226.340, eps : 0.010, buffer size 50000\n",
            "episode 4000, performence : 228.460, eps : 0.010, buffer size 50000\n",
            "episode 4100, performence : 328.020, eps : 0.010, buffer size 50000\n",
            "episode 4200, performence : 395.330, eps : 0.010, buffer size 50000\n",
            "episode 4300, performence : 353.890, eps : 0.010, buffer size 50000\n",
            "episode 4400, performence : 264.400, eps : 0.010, buffer size 50000\n",
            "episode 4500, performence : 368.380, eps : 0.010, buffer size 50000\n",
            "episode 4600, performence : 421.800, eps : 0.010, buffer size 50000\n",
            "episode 4700, performence : 274.210, eps : 0.010, buffer size 50000\n",
            "episode 4800, performence : 358.450, eps : 0.010, buffer size 50000\n",
            "episode 4900, performence : 400.800, eps : 0.010, buffer size 50000\n",
            "episode 5000, performence : 418.260, eps : 0.010, buffer size 50000\n",
            "episode 5100, performence : 466.000, eps : 0.010, buffer size 50000\n",
            "episode 5200, performence : 441.230, eps : 0.010, buffer size 50000\n",
            "episode 5300, performence : 415.670, eps : 0.010, buffer size 50000\n",
            "episode 5400, performence : 450.670, eps : 0.010, buffer size 50000\n",
            "episode 5500, performence : 438.210, eps : 0.010, buffer size 50000\n",
            "episode 5600, performence : 431.690, eps : 0.010, buffer size 50000\n",
            "episode 5700, performence : 409.050, eps : 0.010, buffer size 50000\n",
            "episode 5800, performence : 343.740, eps : 0.010, buffer size 50000\n",
            "episode 5900, performence : 361.260, eps : 0.010, buffer size 50000\n",
            "episode 6000, performence : 360.710, eps : 0.010, buffer size 50000\n",
            "episode 6100, performence : 425.830, eps : 0.010, buffer size 50000\n",
            "episode 6200, performence : 424.970, eps : 0.010, buffer size 50000\n",
            "episode 6300, performence : 451.510, eps : 0.010, buffer size 50000\n",
            "episode 6400, performence : 450.590, eps : 0.010, buffer size 50000\n",
            "episode 6500, performence : 428.760, eps : 0.010, buffer size 50000\n",
            "episode 6600, performence : 410.190, eps : 0.010, buffer size 50000\n",
            "episode 6700, performence : 401.820, eps : 0.010, buffer size 50000\n",
            "episode 6800, performence : 388.270, eps : 0.010, buffer size 50000\n",
            "episode 6900, performence : 437.970, eps : 0.010, buffer size 50000\n",
            "episode 7000, performence : 438.840, eps : 0.010, buffer size 50000\n",
            "episode 7100, performence : 453.940, eps : 0.010, buffer size 50000\n",
            "episode 7200, performence : 478.090, eps : 0.010, buffer size 50000\n",
            "episode 7300, performence : 482.430, eps : 0.010, buffer size 50000\n",
            "episode 7400, performence : 457.330, eps : 0.010, buffer size 50000\n",
            "episode 7500, performence : 422.920, eps : 0.010, buffer size 50000\n",
            "episode 7600, performence : 442.500, eps : 0.010, buffer size 50000\n",
            "episode 7700, performence : 441.280, eps : 0.010, buffer size 50000\n",
            "episode 7800, performence : 390.160, eps : 0.010, buffer size 50000\n",
            "episode 7900, performence : 226.760, eps : 0.010, buffer size 50000\n",
            "episode 8000, performence : 252.910, eps : 0.010, buffer size 50000\n",
            "episode 8100, performence : 412.820, eps : 0.010, buffer size 50000\n",
            "episode 8200, performence : 415.370, eps : 0.010, buffer size 50000\n",
            "episode 8300, performence : 465.070, eps : 0.010, buffer size 50000\n",
            "episode 8400, performence : 434.100, eps : 0.010, buffer size 50000\n",
            "episode 8500, performence : 445.650, eps : 0.010, buffer size 50000\n",
            "episode 8600, performence : 437.170, eps : 0.010, buffer size 50000\n",
            "episode 8700, performence : 426.220, eps : 0.010, buffer size 50000\n",
            "episode 8800, performence : 436.600, eps : 0.010, buffer size 50000\n",
            "episode 8900, performence : 409.790, eps : 0.010, buffer size 50000\n",
            "episode 9000, performence : 395.470, eps : 0.010, buffer size 50000\n",
            "episode 9100, performence : 346.940, eps : 0.010, buffer size 50000\n",
            "episode 9200, performence : 349.230, eps : 0.010, buffer size 50000\n",
            "episode 9300, performence : 332.920, eps : 0.010, buffer size 50000\n",
            "episode 9400, performence : 159.410, eps : 0.010, buffer size 50000\n",
            "episode 9500, performence : 455.260, eps : 0.010, buffer size 50000\n",
            "episode 9600, performence : 482.550, eps : 0.010, buffer size 50000\n",
            "episode 9700, performence : 471.840, eps : 0.010, buffer size 50000\n",
            "episode 9800, performence : 489.150, eps : 0.010, buffer size 50000\n",
            "episode 9900, performence : 493.390, eps : 0.010, buffer size 50000\n"
          ],
          "name": "stdout"
        }
      ]
    },
    {
      "cell_type": "code",
      "metadata": {
        "colab": {
          "base_uri": "https://localhost:8080/",
          "height": 312
        },
        "id": "QzzWR8drmFJs",
        "outputId": "fa1b9887-b4d3-4b57-e2b1-a8bd3f656425"
      },
      "source": [
        "import matplotlib.pyplot as plt\n",
        "\n",
        "plt.plot(range(0,len(result_DQN*100),100), result_DQN, color='red')\n",
        "plt.xlabel(\"episode\")\n",
        "plt.ylabel(\"mean reward every 100 timesteps\")\n",
        "plt.title(\"DQN result Visualization\")"
      ],
      "execution_count": null,
      "outputs": [
        {
          "output_type": "execute_result",
          "data": {
            "text/plain": [
              "Text(0.5, 1.0, 'DQN result Visualization')"
            ]
          },
          "metadata": {
            "tags": []
          },
          "execution_count": 6
        },
        {
          "output_type": "display_data",
          "data": {
            "image/png": "[encoded data removed]",
            "text/plain": [
              "<Figure size 432x288 with 1 Axes>"
            ]
          },
          "metadata": {
            "tags": [],
            "needs_background": "light"
          }
        }
      ]
    },
    {
      "cell_type": "markdown",
      "metadata": {
        "id": "XMU84gsvpA4X"
      },
      "source": [
        "### Double DQN \n",
        "\n",
        "사실 위의 DQN결과는 하이퍼 파라미터 최적화를 한참 뒤에 성공한 뒤 받은 결과이고 처음에는 별로 좋지 않았습니다. 그래서 Double DQN, Dueling Architecture등을 시도 하였습니다. \n",
        "Double DQN은 DQN과 코드가 동일하고 loss를 계산하는 부분만 바뀌므로, 그 부분만 설명하도록 하겠습니다.\n",
        "\n",
        "### DDQN Target \n",
        "Actual Q-network에서 \n",
        "next_state에서 가장 높은 Q값을 가진 action을 선택합니다(a_max_out_brain_index)\n",
        "이제 target_Q_network에서 해당 action의 Q_value를 재계산합니다. (DDQN_target_value) \n",
        "즉, target을 계산하고 loss를 역전파 하는 과정만 바뀐 것입니다.\n",
        "DQN과 성능 비교를 위해 동일한 하이퍼 파라미터를 세팅을 하고 학습을 진행했습니다.\n",
        "\n"
      ]
    },
    {
      "cell_type": "code",
      "metadata": {
        "id": "3jVtykootSPf"
      },
      "source": [
        "import math\n",
        "\n",
        "class DDQN_Agent:\n",
        "    def __init__(self, learning_rate=0.005, gamma=1.0, exploration_rate=1.0, exploration_min=0.1,\n",
        "                 exploration_decay=200, sample_batch_size=512, max_memory=100000, epochs=10,seed=1):\n",
        "        \n",
        "        torch.manual_seed(seed)\n",
        "        # hyper parameter\n",
        "        self.learning_rate = learning_rate\n",
        "        self.gamma = gamma\n",
        "        self.exploration_rate = exploration_rate\n",
        "        self.exploration_min = exploration_min\n",
        "        self.exploration_decay = exploration_decay\n",
        "        self.sample_batch_size = sample_batch_size\n",
        "        self.max_memory = max_memory\n",
        "        self.epochs = epochs\n",
        "        \n",
        "        \n",
        "        self.replay_buffer = Replay_buffer(size_limit=max_memory, sample_size=sample_batch_size)\n",
        "        self.brain = Q_network()\n",
        "        self.target_brain = Q_network()\n",
        "        self.target_brain.load_state_dict(self.brain.state_dict())\n",
        "        self.optimizer = optim.Adam(self.brain.parameters(), lr=self.learning_rate)\n",
        "        \n",
        "        self.steps_done = 0\n",
        "        self.current_eps = 0 \n",
        "\n",
        "    def random_act(self): \n",
        "        return random.randint(0,1)\n",
        "        \n",
        "\n",
        "    def epsilon_greedy_action(self, state):\n",
        "        u = np.random.rand()\n",
        "        \n",
        "        eps_threshold = self.exploration_min+ (self.exploration_rate -self.exploration_min) * \\\n",
        "        math.exp(-1. * self.steps_done / self.exploration_decay)\n",
        "        self.current_eps = eps_threshold\n",
        "        \n",
        "        #greedy action \n",
        "        if u > eps_threshold:\n",
        "            with torch.no_grad():\n",
        "                out = self.brain(torch.tensor(state, dtype=torch.float)) # 현재 state를 받아 Qvalue output\n",
        "                return out.argmax().item() # Q-value 중 가장 큰 action을 return\n",
        "\n",
        "        # random action\n",
        "        else:\n",
        "            return self.random_act()\n",
        "\n",
        "            \n",
        "\n",
        "    def replay(self):\n",
        "        self.target_brain.eval()\n",
        "        self.brain.train()\n",
        "        for i in range(self.epochs):\n",
        "            mini_batch = self.replay_buffer.sample() #replay buffer에서 random sampling \n",
        "            \n",
        "            # mini batch 구성\n",
        "            state_list, action_list, reward_list, next_state_list, done_list = [], [], [], [], []\n",
        "            \n",
        "            # tuple로 구성된 trainsition (s, a, r, s`, done)을 분리\n",
        "            for transition in mini_batch: \n",
        "                state, action, reward, next_state, done = transition  # unpack\n",
        "                state_list.append(state)\n",
        "                action_list.append([action])\n",
        "                reward_list.append([reward])\n",
        "                next_state_list.append(next_state)\n",
        "                done_list.append([done])\n",
        "\n",
        "            # 토치 텐서로 변경\n",
        "            state, action, reward, next_state, done = torch.tensor(state_list, dtype=torch.float), torch.tensor(action_list), \\\n",
        "                               torch.tensor(reward_list, dtype=torch.float), torch.tensor(next_state_list,dtype=torch.float),\\\n",
        "                               torch.tensor(done_list)\n",
        "            \n",
        "            q_out = self.brain(state) # state를 forward propagate Q_value 산출\n",
        "            q_a = q_out.gather(1, action)  # 그중 실제 취한 action의 Q_value, Q(s,a)\n",
        "            \n",
        "            # for DDQN\n",
        "            q_max_out_brain_index = self.brain(next_state).argmax(1)  # leanring agent의 Q값중 큰 action\n",
        "            DDQN_target_value = self.target_brain(next_state).gather(1, q_max_out_brain_index.unsqueeze(1))\n",
        "\n",
        "\n",
        "            target = reward + self.gamma * DDQN_target_value *done # target, r+ gamma * max Q(s`,a`)\n",
        "            \n",
        "            # loss = r+gamma*max(s`,a`) - Q(s,a)\n",
        "            loss = F.smooth_l1_loss(target, q_a) \n",
        "            \n",
        "            self.optimizer.zero_grad() \n",
        "            loss.backward() # backpropagate \n",
        "            self.optimizer.step() # update weight\n",
        "\n",
        "    def update_target_brain(self):\n",
        "        # copy weight of learned brain to target brain\n",
        "        self.target_brain.load_state_dict((self.brain.state_dict()))"
      ],
      "execution_count": null,
      "outputs": []
    },
    {
      "cell_type": "code",
      "metadata": {
        "colab": {
          "base_uri": "https://localhost:8080/"
        },
        "id": "UPXNoxlbvLCw",
        "outputId": "4d6e43e2-3204-4a35-a543-d0bb956994ba"
      },
      "source": [
        "import datetime\n",
        "import time\n",
        "import numpy as np\n",
        "\n",
        "# hyper parameter setting\n",
        "LR = 0.0001\n",
        "GAMMA = 0.98\n",
        "MAX_MEMORY = 50000\n",
        "SAMPLE_BATCH_SIZE =64\n",
        "EXPLORATION_RATE = 1\n",
        "EXPLORATION_MIN = 0.01\n",
        "EXPLORATION_DECAY= 300\n",
        "EPISODE = 10000\n",
        "UPDATE_INTERVAL = 20 # target network update 주기 설정\n",
        "\n",
        "# for display and result checking \n",
        "PRINT_INTERVAL = 100\n",
        "DISPLAY = True\n",
        "\n",
        "\n",
        "\n",
        "# build environment\n",
        "env = gym.make('CartPole-v1')\n",
        "agent = DDQN_Agent(learning_rate=LR, gamma=GAMMA, exploration_rate=EXPLORATION_RATE,\n",
        "              exploration_decay=EXPLORATION_DECAY,\n",
        "              exploration_min=EXPLORATION_MIN, sample_batch_size=SAMPLE_BATCH_SIZE, max_memory=MAX_MEMORY,\n",
        "              )\n",
        "\n",
        "\n",
        "performence = 0\n",
        "frames = []\n",
        "result_DDQN = [] # 결과 저장용 \n",
        "\n",
        "for epi_i in range(EPISODE):\n",
        "    state = env.reset() \n",
        "    done = False \n",
        "\n",
        "    while True : # 한 episode가 끝날때 까지 \n",
        "        action = agent.epsilon_greedy_action(state) # 현재 e-greedy 정책에 의해 action을 선택\n",
        "        next_state, reward, done, _ = env.step(action) # action을 한뒤 env부터 transition 결과 받음\n",
        "        done_mask = 0.0 if done else 1.0 # epside가 끝나면 done , boolean to float 로 변경 \n",
        "        agent.replay_buffer.put((state, action, reward/100, next_state, done_mask)) # replay buffer 저장\n",
        "        state = next_state  # state transition\n",
        "        performence+=reward # 받은 reward를 누적 \n",
        "        \n",
        "        # DISPALY = TRUE로 설정시, 평균 reward가 350번을 넘으면 한번만 rendering 합니다(계속하면 너무 오래걸려서..)\n",
        "        # if DISPLAY and (performence/PRINT_INTERVAL > 400) :\n",
        "        #     frames.append(env.render(mode = 'rgb_array'))\n",
        "        #     env.render()\n",
        "        #     time.sleep(0.01) \n",
        "        #     DISPLAY=False  \n",
        "        \n",
        "        if done : \n",
        "            agent.steps_done+=1 # e-greedy 정책을 위해 한번 episode가 끝나면 steps_done +1 해줌 \n",
        "            break  # 끝나면 While True문 탈출\n",
        "    \n",
        "    # buffer에 충분히 sample이 저장되면, replay 학습 \n",
        "    if agent.replay_buffer.size() > 2000 :\n",
        "        agent.replay()\n",
        "    \n",
        "    # target network의 weight를 actual network의 weight으로 update_interval 마다 카피해서 update\n",
        "    if (epi_i % UPDATE_INTERVAL)==0 and epi_i !=0 : \n",
        "        agent.update_target_brain()\n",
        "    \n",
        "    # PRINT INTERVAL 동안 평균 reward, exploration_rate, buffer size를 checking \n",
        "    if (epi_i % PRINT_INTERVAL)==0 and epi_i !=0 :\n",
        "        print(f'episode {epi_i}, performence : {(performence/PRINT_INTERVAL):.3f}, eps : {agent.current_eps:.3f}, buffer size {agent.replay_buffer.size()}')\n",
        "        result_DDQN.append(performence/PRINT_INTERVAL) # PRINT INTERVAL 동안 평균 reward,  결과 시각화를 위한 저장 \n",
        "        performence = 0.0 \n",
        "        \n",
        "env.close()"
      ],
      "execution_count": null,
      "outputs": [
        {
          "output_type": "stream",
          "text": [
            "episode 100, performence : 19.880, eps : 0.719, buffer size 1988\n",
            "episode 200, performence : 42.280, eps : 0.518, buffer size 6216\n",
            "episode 300, performence : 137.940, eps : 0.374, buffer size 20010\n",
            "episode 400, performence : 273.720, eps : 0.271, buffer size 47382\n",
            "episode 500, performence : 361.890, eps : 0.197, buffer size 50000\n",
            "episode 600, performence : 266.840, eps : 0.144, buffer size 50000\n",
            "episode 700, performence : 272.380, eps : 0.106, buffer size 50000\n",
            "episode 800, performence : 267.730, eps : 0.079, buffer size 50000\n",
            "episode 900, performence : 244.850, eps : 0.059, buffer size 50000\n",
            "episode 1000, performence : 263.540, eps : 0.045, buffer size 50000\n",
            "episode 1100, performence : 254.850, eps : 0.035, buffer size 50000\n",
            "episode 1200, performence : 227.230, eps : 0.028, buffer size 50000\n",
            "episode 1300, performence : 226.710, eps : 0.023, buffer size 50000\n",
            "episode 1400, performence : 213.060, eps : 0.019, buffer size 50000\n",
            "episode 1500, performence : 202.670, eps : 0.017, buffer size 50000\n",
            "episode 1600, performence : 205.110, eps : 0.015, buffer size 50000\n",
            "episode 1700, performence : 156.620, eps : 0.013, buffer size 50000\n",
            "episode 1800, performence : 151.570, eps : 0.012, buffer size 50000\n",
            "episode 1900, performence : 153.890, eps : 0.012, buffer size 50000\n",
            "episode 2000, performence : 146.740, eps : 0.011, buffer size 50000\n",
            "episode 2100, performence : 148.270, eps : 0.011, buffer size 50000\n",
            "episode 2200, performence : 169.260, eps : 0.011, buffer size 50000\n",
            "episode 2300, performence : 171.950, eps : 0.010, buffer size 50000\n",
            "episode 2400, performence : 175.030, eps : 0.010, buffer size 50000\n",
            "episode 2500, performence : 180.710, eps : 0.010, buffer size 50000\n",
            "episode 2600, performence : 201.330, eps : 0.010, buffer size 50000\n",
            "episode 2700, performence : 256.440, eps : 0.010, buffer size 50000\n",
            "episode 2800, performence : 252.330, eps : 0.010, buffer size 50000\n",
            "episode 2900, performence : 378.110, eps : 0.010, buffer size 50000\n",
            "episode 3000, performence : 329.140, eps : 0.010, buffer size 50000\n",
            "episode 3100, performence : 405.700, eps : 0.010, buffer size 50000\n",
            "episode 3200, performence : 355.540, eps : 0.010, buffer size 50000\n",
            "episode 3300, performence : 426.260, eps : 0.010, buffer size 50000\n",
            "episode 3400, performence : 403.620, eps : 0.010, buffer size 50000\n",
            "episode 3500, performence : 404.780, eps : 0.010, buffer size 50000\n",
            "episode 3600, performence : 384.830, eps : 0.010, buffer size 50000\n",
            "episode 3700, performence : 393.820, eps : 0.010, buffer size 50000\n",
            "episode 3800, performence : 406.450, eps : 0.010, buffer size 50000\n",
            "episode 3900, performence : 432.160, eps : 0.010, buffer size 50000\n",
            "episode 4000, performence : 425.390, eps : 0.010, buffer size 50000\n",
            "episode 4100, performence : 407.110, eps : 0.010, buffer size 50000\n",
            "episode 4200, performence : 386.240, eps : 0.010, buffer size 50000\n",
            "episode 4300, performence : 408.980, eps : 0.010, buffer size 50000\n",
            "episode 4400, performence : 421.940, eps : 0.010, buffer size 50000\n",
            "episode 4500, performence : 444.010, eps : 0.010, buffer size 50000\n",
            "episode 4600, performence : 364.120, eps : 0.010, buffer size 50000\n",
            "episode 4700, performence : 412.530, eps : 0.010, buffer size 50000\n",
            "episode 4800, performence : 401.790, eps : 0.010, buffer size 50000\n",
            "episode 4900, performence : 410.720, eps : 0.010, buffer size 50000\n",
            "episode 5000, performence : 454.420, eps : 0.010, buffer size 50000\n",
            "episode 5100, performence : 435.320, eps : 0.010, buffer size 50000\n",
            "episode 5200, performence : 409.340, eps : 0.010, buffer size 50000\n",
            "episode 5300, performence : 417.000, eps : 0.010, buffer size 50000\n",
            "episode 5400, performence : 445.430, eps : 0.010, buffer size 50000\n",
            "episode 5500, performence : 398.200, eps : 0.010, buffer size 50000\n",
            "episode 5600, performence : 464.180, eps : 0.010, buffer size 50000\n",
            "episode 5700, performence : 482.130, eps : 0.010, buffer size 50000\n",
            "episode 5800, performence : 413.510, eps : 0.010, buffer size 50000\n",
            "episode 5900, performence : 446.800, eps : 0.010, buffer size 50000\n",
            "episode 6000, performence : 404.390, eps : 0.010, buffer size 50000\n",
            "episode 6100, performence : 382.980, eps : 0.010, buffer size 50000\n",
            "episode 6200, performence : 431.730, eps : 0.010, buffer size 50000\n",
            "episode 6300, performence : 434.420, eps : 0.010, buffer size 50000\n",
            "episode 6400, performence : 449.770, eps : 0.010, buffer size 50000\n",
            "episode 6500, performence : 437.210, eps : 0.010, buffer size 50000\n",
            "episode 6600, performence : 446.600, eps : 0.010, buffer size 50000\n",
            "episode 6700, performence : 448.550, eps : 0.010, buffer size 50000\n",
            "episode 6800, performence : 457.650, eps : 0.010, buffer size 50000\n",
            "episode 6900, performence : 455.470, eps : 0.010, buffer size 50000\n",
            "episode 7000, performence : 328.500, eps : 0.010, buffer size 50000\n",
            "episode 7100, performence : 257.870, eps : 0.010, buffer size 50000\n",
            "episode 7200, performence : 229.100, eps : 0.010, buffer size 50000\n",
            "episode 7300, performence : 323.200, eps : 0.010, buffer size 50000\n",
            "episode 7400, performence : 369.220, eps : 0.010, buffer size 50000\n",
            "episode 7500, performence : 379.670, eps : 0.010, buffer size 50000\n",
            "episode 7600, performence : 444.230, eps : 0.010, buffer size 50000\n",
            "episode 7700, performence : 380.850, eps : 0.010, buffer size 50000\n",
            "episode 7800, performence : 382.570, eps : 0.010, buffer size 50000\n",
            "episode 7900, performence : 377.690, eps : 0.010, buffer size 50000\n",
            "episode 8000, performence : 300.850, eps : 0.010, buffer size 50000\n",
            "episode 8100, performence : 275.880, eps : 0.010, buffer size 50000\n",
            "episode 8200, performence : 316.320, eps : 0.010, buffer size 50000\n",
            "episode 8300, performence : 389.520, eps : 0.010, buffer size 50000\n",
            "episode 8400, performence : 390.060, eps : 0.010, buffer size 50000\n",
            "episode 8500, performence : 335.690, eps : 0.010, buffer size 50000\n",
            "episode 8600, performence : 313.000, eps : 0.010, buffer size 50000\n",
            "episode 8700, performence : 393.220, eps : 0.010, buffer size 50000\n",
            "episode 8800, performence : 373.140, eps : 0.010, buffer size 50000\n",
            "episode 8900, performence : 411.420, eps : 0.010, buffer size 50000\n",
            "episode 9000, performence : 453.710, eps : 0.010, buffer size 50000\n",
            "episode 9100, performence : 407.800, eps : 0.010, buffer size 50000\n",
            "episode 9200, performence : 347.080, eps : 0.010, buffer size 50000\n",
            "episode 9300, performence : 452.020, eps : 0.010, buffer size 50000\n",
            "episode 9400, performence : 397.420, eps : 0.010, buffer size 50000\n",
            "episode 9500, performence : 438.070, eps : 0.010, buffer size 50000\n",
            "episode 9600, performence : 376.160, eps : 0.010, buffer size 50000\n",
            "episode 9700, performence : 392.690, eps : 0.010, buffer size 50000\n",
            "episode 9800, performence : 429.230, eps : 0.010, buffer size 50000\n",
            "episode 9900, performence : 441.450, eps : 0.010, buffer size 50000\n"
          ],
          "name": "stdout"
        }
      ]
    },
    {
      "cell_type": "code",
      "metadata": {
        "colab": {
          "base_uri": "https://localhost:8080/",
          "height": 312
        },
        "id": "40Vxy_t0vOZo",
        "outputId": "08d9b655-a0f4-4733-e9a9-ffdf46e37cdc"
      },
      "source": [
        "import matplotlib.pyplot as plt\n",
        "\n",
        "plt.plot(range(0,len(result_DDQN*100),100), result_DDQN, color='red')\n",
        "plt.xlabel(\"episode\")\n",
        "plt.ylabel(\"mean reward every 100 timesteps\")\n",
        "plt.title(\"DDQN result Visualization\")"
      ],
      "execution_count": null,
      "outputs": [
        {
          "output_type": "execute_result",
          "data": {
            "text/plain": [
              "Text(0.5, 1.0, 'DDQN result Visualization')"
            ]
          },
          "metadata": {
            "tags": []
          },
          "execution_count": 9
        },
        {
          "output_type": "display_data",
          "data": {
            "image/png": "[encoded data removed]",
            "text/plain": [
              "<Figure size 432x288 with 1 Axes>"
            ]
          },
          "metadata": {
            "tags": [],
            "needs_background": "light"
          }
        }
      ]
    },
    {
      "cell_type": "markdown",
      "metadata": {
        "id": "LIOtu9B9xY4i"
      },
      "source": [
        "## DDQN with Dueling network architecture\n",
        "\n",
        "마찬가지로 DQN의 코드의 큰 틀은 변하지 변하지 않았습니다\n",
        "\n",
        "Target을 계산할떄 위에서 설명한 DDQN target으로 계산을 했고, 네트워크의 구조만 Dueling network 구조로 변경해 보았습니다.\n",
        "\n",
        "Forward 부분에서는 위의 그림과 같이 논문에서 제안한, 정확한 Advantage 계산을 강제하기 위해서 위와 같이 Advatnage의 평균을 계산해 제약식을 걸어줍니다. Q =V+Advantage- Advantage mean을 해줍니다(이론적으로 Advatange의 평균은 0이기 때문에 빼도 상관이 없어야 합니다) \n",
        "계산한 Q_value를 forward Propagation 합니다.\n",
        "\n"
      ]
    },
    {
      "cell_type": "code",
      "metadata": {
        "id": "CPSRr0PGxfwf"
      },
      "source": [
        "\n",
        "class Dueling_Q_network(nn.Module):\n",
        "    def __init__(self):  # 8 4 2 1\n",
        "        super(Dueling_Q_network, self).__init__()\n",
        "        self.fc1 = nn.Linear(4, 128) # fc1 : state를 받아서, 128개 Output\n",
        "        self.fc_value = nn.Linear(128,1) # fc_value : fc1의 128개 Output을 input으로 받아 Value function 게산 , Output 1 \n",
        "        self.fc_advantage = nn.Linear(128,2) # fc_advatnage : fc1의 128개 Output을 input으로 받아 Advantage function 게산 , Output 4 \n",
        "\n",
        "\n",
        "    def forward(self, x):\n",
        "        x = F.relu(self.fc1(x))\n",
        "        value = (self.fc_value(x))\n",
        "        advantage = (self.fc_advantage(x))\n",
        "        \n",
        "        Average_advantage = advantage.mean() # Advantage의 평균 계산 \n",
        "        Q = value + advantage - Average_advantage # 정확한 Advatngae 계산을 강제하기 위한 제약식 \n",
        "    \n",
        "        return Q"
      ],
      "execution_count": null,
      "outputs": []
    },
    {
      "cell_type": "code",
      "metadata": {
        "id": "nmgLbrXhyUve"
      },
      "source": [
        "import math\n",
        "\n",
        "class DDQN_Duel_Agent:\n",
        "    def __init__(self, learning_rate=0.005, gamma=1.0, exploration_rate=1.0, exploration_min=0.1,\n",
        "                 exploration_decay=200, sample_batch_size=512, max_memory=100000, epochs=10,seed=1):\n",
        "        \n",
        "        torch.manual_seed(seed)\n",
        "        # hyper parameter\n",
        "        self.learning_rate = learning_rate\n",
        "        self.gamma = gamma\n",
        "        self.exploration_rate = exploration_rate\n",
        "        self.exploration_min = exploration_min\n",
        "        self.exploration_decay = exploration_decay\n",
        "        self.sample_batch_size = sample_batch_size\n",
        "        self.max_memory = max_memory\n",
        "        self.epochs = epochs\n",
        "        \n",
        "        \n",
        "        self.replay_buffer = Replay_buffer(size_limit=max_memory, sample_size=sample_batch_size)\n",
        "        self.brain = Dueling_Q_network() \n",
        "        self.target_brain = Dueling_Q_network()\n",
        "        self.target_brain.load_state_dict(self.brain.state_dict())\n",
        "        self.optimizer = optim.Adam(self.brain.parameters(), lr=self.learning_rate)\n",
        "        \n",
        "        self.steps_done = 0\n",
        "        self.current_eps = 0 \n",
        "\n",
        "    def random_act(self): \n",
        "        return random.randint(0,1)\n",
        "        \n",
        "\n",
        "    def epsilon_greedy_action(self, state):\n",
        "        u = np.random.rand()\n",
        "        \n",
        "        eps_threshold = self.exploration_min+ (self.exploration_rate -self.exploration_min) * \\\n",
        "        math.exp(-1. * self.steps_done / self.exploration_decay)\n",
        "        self.current_eps = eps_threshold\n",
        "        \n",
        "        #greedy action \n",
        "        if u > eps_threshold:\n",
        "            with torch.no_grad():\n",
        "                out = self.brain(torch.tensor(state, dtype=torch.float)) # 현재 state를 받아 Qvalue output\n",
        "                return out.argmax().item() # Q-value 중 가장 큰 action을 return\n",
        "\n",
        "        # random action\n",
        "        else:\n",
        "            return self.random_act()\n",
        "\n",
        "            \n",
        "\n",
        "    def replay(self):\n",
        "        self.target_brain.eval()\n",
        "        self.brain.train()\n",
        "        for i in range(self.epochs):\n",
        "            mini_batch = self.replay_buffer.sample() #replay buffer에서 random sampling \n",
        "            \n",
        "            # mini batch 구성\n",
        "            state_list, action_list, reward_list, next_state_list, done_list = [], [], [], [], []\n",
        "            \n",
        "            # tuple로 구성된 trainsition (s, a, r, s`, done)을 분리\n",
        "            for transition in mini_batch: \n",
        "                state, action, reward, next_state, done = transition  # unpack\n",
        "                state_list.append(state)\n",
        "                action_list.append([action])\n",
        "                reward_list.append([reward])\n",
        "                next_state_list.append(next_state)\n",
        "                done_list.append([done])\n",
        "\n",
        "            # 토치 텐서로 변경\n",
        "            state, action, reward, next_state, done = torch.tensor(state_list, dtype=torch.float), torch.tensor(action_list), \\\n",
        "                               torch.tensor(reward_list, dtype=torch.float), torch.tensor(next_state_list,dtype=torch.float),\\\n",
        "                               torch.tensor(done_list)\n",
        "            \n",
        "            q_out = self.brain(state) # state를 forward propagate Q_value 산출\n",
        "            q_a = q_out.gather(1, action)  # 그중 실제 취한 action의 Q_value, Q(s,a)\n",
        "            \n",
        "            # for DDQN\n",
        "            q_max_out_brain_index = self.brain(next_state).argmax(1)  # leanring agent의 Q값중 큰 action\n",
        "            DDQN_target_value = self.target_brain(next_state).gather(1, q_max_out_brain_index.unsqueeze(1))\n",
        "\n",
        "\n",
        "            target = reward + self.gamma * DDQN_target_value *done # target, r+ gamma * max Q(s`,a`)\n",
        "            \n",
        "            # loss = r+gamma*max(s`,a`) - Q(s,a)\n",
        "            loss = F.smooth_l1_loss(target, q_a) \n",
        "            \n",
        "            self.optimizer.zero_grad() \n",
        "            loss.backward() # backpropagate \n",
        "            self.optimizer.step() # update weight\n",
        "\n",
        "    def update_target_brain(self):\n",
        "        # copy weight of learned brain to target brain\n",
        "        self.target_brain.load_state_dict((self.brain.state_dict()))"
      ],
      "execution_count": null,
      "outputs": []
    },
    {
      "cell_type": "code",
      "metadata": {
        "colab": {
          "base_uri": "https://localhost:8080/"
        },
        "id": "FyLV-_wkyj48",
        "outputId": "23687a70-880f-4f4b-9c15-013160c6a715"
      },
      "source": [
        "import datetime\n",
        "import time\n",
        "import numpy as np\n",
        "\n",
        "# hyper parameter setting\n",
        "LR = 0.0001\n",
        "GAMMA = 0.98\n",
        "MAX_MEMORY = 50000\n",
        "SAMPLE_BATCH_SIZE =64\n",
        "EXPLORATION_RATE = 1\n",
        "EXPLORATION_MIN = 0.01\n",
        "EXPLORATION_DECAY= 300\n",
        "EPISODE = 10000\n",
        "UPDATE_INTERVAL = 20 # target network update 주기 설정\n",
        "\n",
        "# for display and result checking \n",
        "PRINT_INTERVAL = 100\n",
        "DISPLAY = True\n",
        "\n",
        "\n",
        "\n",
        "# build environment\n",
        "env = gym.make('CartPole-v1')\n",
        "agent = DDQN_Duel_Agent(learning_rate=LR, gamma=GAMMA, exploration_rate=EXPLORATION_RATE,\n",
        "              exploration_decay=EXPLORATION_DECAY,\n",
        "              exploration_min=EXPLORATION_MIN, sample_batch_size=SAMPLE_BATCH_SIZE, max_memory=MAX_MEMORY,\n",
        "              )\n",
        "\n",
        "\n",
        "performence = 0\n",
        "frames = []\n",
        "result_duel = [] # 결과 저장용 \n",
        "\n",
        "for epi_i in range(EPISODE):\n",
        "    state = env.reset() \n",
        "    done = False \n",
        "\n",
        "    while True : # 한 episode가 끝날때 까지 \n",
        "        action = agent.epsilon_greedy_action(state) # 현재 e-greedy 정책에 의해 action을 선택\n",
        "        next_state, reward, done, _ = env.step(action) # action을 한뒤 env부터 transition 결과 받음\n",
        "        done_mask = 0.0 if done else 1.0 # epside가 끝나면 done , boolean to float 로 변경 \n",
        "        agent.replay_buffer.put((state, action, reward/100, next_state, done_mask)) # replay buffer 저장\n",
        "        state = next_state  # state transition\n",
        "        performence+=reward # 받은 reward를 누적 \n",
        "        \n",
        "        # DISPALY = TRUE로 설정시, 평균 reward가 350번을 넘으면 한번만 rendering 합니다(계속하면 너무 오래걸려서..)\n",
        "        # if DISPLAY and (performence/PRINT_INTERVAL > 400) :\n",
        "        #     frames.append(env.render(mode = 'rgb_array'))\n",
        "        #     env.render()\n",
        "        #     time.sleep(0.01) \n",
        "        #     DISPLAY=False  \n",
        "        \n",
        "        if done : \n",
        "            agent.steps_done+=1 # e-greedy 정책을 위해 한번 episode가 끝나면 steps_done +1 해줌 \n",
        "            break  # 끝나면 While True문 탈출\n",
        "    \n",
        "    # buffer에 충분히 sample이 저장되면, replay 학습 \n",
        "    if agent.replay_buffer.size() > 2000 :\n",
        "        agent.replay()\n",
        "    \n",
        "    # target network의 weight를 actual network의 weight으로 update_interval 마다 카피해서 update\n",
        "    if (epi_i % UPDATE_INTERVAL)==0 and epi_i !=0 : \n",
        "        agent.update_target_brain()\n",
        "    \n",
        "    # PRINT INTERVAL 동안 평균 reward, exploration_rate, buffer size를 checking \n",
        "    if (epi_i % PRINT_INTERVAL)==0 and epi_i !=0 :\n",
        "        print(f'episode {epi_i}, performence : {(performence/PRINT_INTERVAL):.3f}, eps : {agent.current_eps:.3f}, buffer size {agent.replay_buffer.size()}')\n",
        "        result_duel.append(performence/PRINT_INTERVAL) # PRINT INTERVAL 동안 평균 reward,  결과 시각화를 위한 저장 \n",
        "        performence = 0.0 \n",
        "        \n",
        "env.close()"
      ],
      "execution_count": null,
      "outputs": [
        {
          "output_type": "stream",
          "text": [
            "episode 100, performence : 20.830, eps : 0.719, buffer size 2083\n",
            "episode 200, performence : 34.160, eps : 0.518, buffer size 5499\n",
            "episode 300, performence : 89.670, eps : 0.374, buffer size 14466\n",
            "episode 400, performence : 210.550, eps : 0.271, buffer size 35521\n",
            "episode 500, performence : 204.710, eps : 0.197, buffer size 50000\n",
            "episode 600, performence : 211.320, eps : 0.144, buffer size 50000\n",
            "episode 700, performence : 236.140, eps : 0.106, buffer size 50000\n",
            "episode 800, performence : 226.740, eps : 0.079, buffer size 50000\n",
            "episode 900, performence : 267.380, eps : 0.059, buffer size 50000\n",
            "episode 1000, performence : 289.320, eps : 0.045, buffer size 50000\n",
            "episode 1100, performence : 324.050, eps : 0.035, buffer size 50000\n",
            "episode 1200, performence : 290.380, eps : 0.028, buffer size 50000\n",
            "episode 1300, performence : 282.870, eps : 0.023, buffer size 50000\n",
            "episode 1400, performence : 309.530, eps : 0.019, buffer size 50000\n",
            "episode 1500, performence : 288.950, eps : 0.017, buffer size 50000\n",
            "episode 1600, performence : 332.810, eps : 0.015, buffer size 50000\n",
            "episode 1700, performence : 317.550, eps : 0.013, buffer size 50000\n",
            "episode 1800, performence : 254.440, eps : 0.012, buffer size 50000\n",
            "episode 1900, performence : 245.590, eps : 0.012, buffer size 50000\n",
            "episode 2000, performence : 278.540, eps : 0.011, buffer size 50000\n",
            "episode 2100, performence : 272.210, eps : 0.011, buffer size 50000\n",
            "episode 2200, performence : 272.620, eps : 0.011, buffer size 50000\n",
            "episode 2300, performence : 328.960, eps : 0.010, buffer size 50000\n",
            "episode 2400, performence : 306.570, eps : 0.010, buffer size 50000\n",
            "episode 2500, performence : 257.280, eps : 0.010, buffer size 50000\n",
            "episode 2600, performence : 355.860, eps : 0.010, buffer size 50000\n",
            "episode 2700, performence : 327.350, eps : 0.010, buffer size 50000\n",
            "episode 2800, performence : 282.260, eps : 0.010, buffer size 50000\n",
            "episode 2900, performence : 411.180, eps : 0.010, buffer size 50000\n",
            "episode 3000, performence : 341.680, eps : 0.010, buffer size 50000\n",
            "episode 3100, performence : 305.530, eps : 0.010, buffer size 50000\n",
            "episode 3200, performence : 287.450, eps : 0.010, buffer size 50000\n",
            "episode 3300, performence : 327.580, eps : 0.010, buffer size 50000\n",
            "episode 3400, performence : 267.450, eps : 0.010, buffer size 50000\n",
            "episode 3500, performence : 319.350, eps : 0.010, buffer size 50000\n",
            "episode 3600, performence : 246.120, eps : 0.010, buffer size 50000\n",
            "episode 3700, performence : 256.390, eps : 0.010, buffer size 50000\n",
            "episode 3800, performence : 380.010, eps : 0.010, buffer size 50000\n",
            "episode 3900, performence : 281.230, eps : 0.010, buffer size 50000\n",
            "episode 4000, performence : 287.580, eps : 0.010, buffer size 50000\n",
            "episode 4100, performence : 322.370, eps : 0.010, buffer size 50000\n",
            "episode 4200, performence : 302.020, eps : 0.010, buffer size 50000\n",
            "episode 4300, performence : 243.790, eps : 0.010, buffer size 50000\n",
            "episode 4400, performence : 348.340, eps : 0.010, buffer size 50000\n",
            "episode 4500, performence : 278.910, eps : 0.010, buffer size 50000\n",
            "episode 4600, performence : 360.670, eps : 0.010, buffer size 50000\n",
            "episode 4700, performence : 353.480, eps : 0.010, buffer size 50000\n",
            "episode 4800, performence : 350.140, eps : 0.010, buffer size 50000\n",
            "episode 4900, performence : 364.690, eps : 0.010, buffer size 50000\n",
            "episode 5000, performence : 314.060, eps : 0.010, buffer size 50000\n",
            "episode 5100, performence : 370.220, eps : 0.010, buffer size 50000\n",
            "episode 5200, performence : 360.100, eps : 0.010, buffer size 50000\n",
            "episode 5300, performence : 366.270, eps : 0.010, buffer size 50000\n",
            "episode 5400, performence : 387.170, eps : 0.010, buffer size 50000\n",
            "episode 5500, performence : 379.920, eps : 0.010, buffer size 50000\n",
            "episode 5600, performence : 376.380, eps : 0.010, buffer size 50000\n",
            "episode 5700, performence : 313.080, eps : 0.010, buffer size 50000\n",
            "episode 5800, performence : 353.690, eps : 0.010, buffer size 50000\n",
            "episode 5900, performence : 362.390, eps : 0.010, buffer size 50000\n",
            "episode 6000, performence : 267.870, eps : 0.010, buffer size 50000\n",
            "episode 6100, performence : 262.580, eps : 0.010, buffer size 50000\n",
            "episode 6200, performence : 330.530, eps : 0.010, buffer size 50000\n",
            "episode 6300, performence : 329.140, eps : 0.010, buffer size 50000\n",
            "episode 6400, performence : 333.670, eps : 0.010, buffer size 50000\n",
            "episode 6500, performence : 387.140, eps : 0.010, buffer size 50000\n",
            "episode 6600, performence : 382.640, eps : 0.010, buffer size 50000\n",
            "episode 6700, performence : 309.400, eps : 0.010, buffer size 50000\n",
            "episode 6800, performence : 321.140, eps : 0.010, buffer size 50000\n",
            "episode 6900, performence : 362.960, eps : 0.010, buffer size 50000\n",
            "episode 7000, performence : 362.140, eps : 0.010, buffer size 50000\n",
            "episode 7100, performence : 363.230, eps : 0.010, buffer size 50000\n",
            "episode 7200, performence : 446.550, eps : 0.010, buffer size 50000\n",
            "episode 7300, performence : 392.690, eps : 0.010, buffer size 50000\n",
            "episode 7400, performence : 429.750, eps : 0.010, buffer size 50000\n",
            "episode 7500, performence : 432.730, eps : 0.010, buffer size 50000\n",
            "episode 7600, performence : 414.270, eps : 0.010, buffer size 50000\n",
            "episode 7700, performence : 374.150, eps : 0.010, buffer size 50000\n",
            "episode 7800, performence : 384.350, eps : 0.010, buffer size 50000\n",
            "episode 7900, performence : 307.700, eps : 0.010, buffer size 50000\n",
            "episode 8000, performence : 294.730, eps : 0.010, buffer size 50000\n",
            "episode 8100, performence : 339.810, eps : 0.010, buffer size 50000\n",
            "episode 8200, performence : 305.380, eps : 0.010, buffer size 50000\n",
            "episode 8300, performence : 218.910, eps : 0.010, buffer size 50000\n",
            "episode 8400, performence : 452.910, eps : 0.010, buffer size 50000\n",
            "episode 8500, performence : 467.940, eps : 0.010, buffer size 50000\n",
            "episode 8600, performence : 486.500, eps : 0.010, buffer size 50000\n",
            "episode 8700, performence : 476.570, eps : 0.010, buffer size 50000\n",
            "episode 8800, performence : 488.890, eps : 0.010, buffer size 50000\n",
            "episode 8900, performence : 455.110, eps : 0.010, buffer size 50000\n",
            "episode 9000, performence : 447.000, eps : 0.010, buffer size 50000\n",
            "episode 9100, performence : 407.250, eps : 0.010, buffer size 50000\n",
            "episode 9200, performence : 384.690, eps : 0.010, buffer size 50000\n",
            "episode 9300, performence : 396.700, eps : 0.010, buffer size 50000\n",
            "episode 9400, performence : 413.290, eps : 0.010, buffer size 50000\n",
            "episode 9500, performence : 387.420, eps : 0.010, buffer size 50000\n",
            "episode 9600, performence : 389.130, eps : 0.010, buffer size 50000\n",
            "episode 9700, performence : 396.190, eps : 0.010, buffer size 50000\n",
            "episode 9800, performence : 415.490, eps : 0.010, buffer size 50000\n",
            "episode 9900, performence : 423.020, eps : 0.010, buffer size 50000\n"
          ],
          "name": "stdout"
        }
      ]
    },
    {
      "cell_type": "code",
      "metadata": {
        "colab": {
          "base_uri": "https://localhost:8080/",
          "height": 312
        },
        "id": "gyCngjP1yuAj",
        "outputId": "a50da469-8f56-436b-dcc1-e83e4d198512"
      },
      "source": [
        "import matplotlib.pyplot as plt\n",
        "\n",
        "plt.plot(range(0,len(result_duel*100),100), result_duel, color='red')\n",
        "plt.xlabel(\"episode\")\n",
        "plt.ylabel(\"mean reward every 100 timesteps\")\n",
        "plt.title(\"DDQN with Dueling network result Visualization\")"
      ],
      "execution_count": null,
      "outputs": [
        {
          "output_type": "execute_result",
          "data": {
            "text/plain": [
              "Text(0.5, 1.0, 'DDQN with Dueling network result Visualization')"
            ]
          },
          "metadata": {
            "tags": []
          },
          "execution_count": 21
        },
        {
          "output_type": "display_data",
          "data": {
            "image/png": "[encoded data removed]",
            "text/plain": [
              "<Figure size 432x288 with 1 Axes>"
            ]
          },
          "metadata": {
            "tags": [],
            "needs_background": "light"
          }
        }
      ]
    },
    {
      "cell_type": "markdown",
      "metadata": {
        "id": "ZWd7dYsFE8kZ"
      },
      "source": [
        "## 알고리즘 별 비교 시각화\n",
        "\n",
        "일반적인 DQN에 비해서 다른 알고리즘들을 적용했을 때, 드라마틱 하게 달라지는 결과는 관찰되지 못했습니다. 이유는 카트폴 환경이 action이 2가지 밖에 없는 비교적 단순한 환경이기 때문일 것이라 생각됩니다.\n",
        "\n",
        "\n",
        "**모델의 실질적인 성능의 비교는 무의미 할 정도로 비슷합니다.\\\n",
        "세가지 알고리즘 모두 성능이 우수한 것을 확인할 수 있고 \n",
        " 다만 관찰되는 알고리즘 별 특징은 다음과 같습니다.**\n",
        "\n",
        "+ DQN은 우선 편차가 매우 심합니다. 주황색 선을 보면 급격하게 낮아졌다가 높아지는 구간을 많이 관찰할 수 있습니다. \n",
        "+ 이에 비해 DDQN은 편차의 폭이 조금 줄은 것을 확인 할 수 있습니다. \n",
        "+  DDQN-Dueling network은 대체로 큰 편차 없이 서서히 우 상향하는 그림을 보여줍니다. \n",
        "\n",
        "\n",
        "\n",
        "Cartpole v0 환경기준 195점을 세 알고리즘 모두 다 episode 초반부에서 모두 넘어 버렸습니다(max 200) 그렇기 때문에 Cartpole v1 환경을 다시 돌렸습니다(동일한 환경이지만 max 500까지 갈수 있습니다). Cartpole v1 기준의 max값인 500을 DDQN-Dueling network, DQN는 도달한 결과를 관찰 할 수 있습니다. \n",
        "\n",
        "\n"
      ]
    },
    {
      "cell_type": "code",
      "metadata": {
        "colab": {
          "base_uri": "https://localhost:8080/",
          "height": 312
        },
        "id": "VEkprJtHyuxy",
        "outputId": "ad954960-25c9-492a-95dc-e129fc092227"
      },
      "source": [
        "import matplotlib.pyplot as plt\n",
        "\n",
        "plt.plot(range(0,len(result_duel*100),100), result_duel, label='DDQN -Deuling network')\n",
        "plt.plot(range(0,len(result_DQN*100),100), result_DQN, label='DQN')\n",
        "plt.plot(range(0,len(result_DDQN*100),100), result_DDQN, label='DDQN')\n",
        "plt.xlabel(\"episode\")\n",
        "plt.ylabel(\"mean reward every 100 timesteps\")\n",
        "plt.title(\"Comparing Algoritm , Visualization\")\n",
        "plt.legend()"
      ],
      "execution_count": null,
      "outputs": [
        {
          "output_type": "execute_result",
          "data": {
            "text/plain": [
              "<matplotlib.legend.Legend at 0x7f9af082ee10>"
            ]
          },
          "metadata": {
            "tags": []
          },
          "execution_count": 26
        },
        {
          "output_type": "display_data",
          "data": {
            "image/png": "[encoded data removed]",
            "text/plain": [
              "<Figure size 432x288 with 1 Axes>"
            ]
          },
          "metadata": {
            "tags": [],
            "needs_background": "light"
          }
        }
      ]
    }
  ]
}